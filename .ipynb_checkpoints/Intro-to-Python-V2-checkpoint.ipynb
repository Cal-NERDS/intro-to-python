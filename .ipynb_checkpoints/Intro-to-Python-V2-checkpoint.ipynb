{
 "cells": [
  {
   "cell_type": "markdown",
   "metadata": {},
   "source": [
    "# Intro to Python (Part I)\n",
    "\n",
    "\n",
    "\n",
    "---\n",
    "<img src=\"https://calnerds.berkeley.edu/css/images/logo.jpg\"  /> <!--style=\"width: 500px; height: 275px;\"-->\n",
    "\n",
    "### Kseniya Usovich \n",
    "\n",
    "Introduction to Python \n",
    "\n",
    "*Estimated Time: 3 hours*\n",
    "\n",
    "\n",
    "\n",
    "\n",
    "---\n",
    "\n",
    "### Topics Covered\n",
    "- Variable Assignment\n",
    "- Strings\n",
    "- Numerals\n",
    "- Lists, Arrays, and Tuples \n",
    "- Built-ins \n",
    "- Dictionaries \n",
    "- Loops\n",
    "- Conditionals\n",
    "- Functions\n",
    "- Libraries \n",
    "- Files \n",
    "- Errors\n",
    "- Comphrehensions\n",
    "\n",
    "### Table of Contents\n",
    "\n",
    "1 - [Data Types](#section1)<br>\n",
    "\n",
    "&nbsp;&nbsp;&nbsp;&nbsp;&nbsp;&nbsp; 1 - [Variable Assignment](#subsection1)<br>\n",
    "\n",
    "&nbsp;&nbsp;&nbsp;&nbsp;&nbsp;&nbsp; 2 - [Strings](#subsection2)<br>\n",
    "\n",
    "&nbsp;&nbsp;&nbsp;&nbsp;&nbsp;&nbsp; 3 - [Numerals](#subsection3)<br>\n",
    "\n",
    "&nbsp;&nbsp;&nbsp;&nbsp;&nbsp;&nbsp; 3 - [Booleans](#subsection4)<br>\n",
    "\n",
    "2 - [Data Structures](#section2)<br>\n",
    "\n",
    "&nbsp;&nbsp;&nbsp;&nbsp;&nbsp;&nbsp; 1 - [Lists](#subsection4)<br>\n",
    "\n",
    "&nbsp;&nbsp;&nbsp;&nbsp;&nbsp;&nbsp; 2 - [Arrays](#subsection5)<br>\n",
    "\n",
    "&nbsp;&nbsp;&nbsp;&nbsp;&nbsp;&nbsp; 3 - [Tuples](#subsection6)<br>\n",
    "\n",
    "&nbsp;&nbsp;&nbsp;&nbsp;&nbsp;&nbsp; 4 - [Dictionaries](#subsection7)<br>\n",
    "\n",
    "\n",
    "3 - [Built-ins](#section3)<br>\n",
    "\n",
    "\n",
    "4 - [Loops and Conditionals](#section4)<br>  Karla - conditionals \n",
    "\n",
    "\n",
    "5 - [Functions](#section5)<br> - anatomy and definition\n",
    "\n",
    "6 - [Files](#section6)<br> - read, write, edit and save\n",
    "\n",
    "7 - [Libraries](#section7)<br> - numpy and plotly ( mention pandas and seaborn for the next section)\n",
    "\n",
    "8 - [Errors](#section8)<br> \n",
    "\n",
    "9 - [Comphrehensions](#section9)<br>  Karla - Add after loops and conditionals \n",
    "\n",
    "- Add challenge questions for the sections  Karla - add \n",
    "\n",
    "\n",
    "\n",
    "**Dependencies:**"
   ]
  },
  {
   "cell_type": "code",
   "execution_count": 55,
   "metadata": {},
   "outputs": [],
   "source": [
    "import numpy as np\n",
    "import pandas as pd\n",
    "import math"
   ]
  },
  {
   "cell_type": "markdown",
   "metadata": {},
   "source": [
    "## Data Types <a id=\"section1\"/>"
   ]
  },
  {
   "cell_type": "markdown",
   "metadata": {},
   "source": [
    "\n",
    "Every programming language has different types of data that it can use. A data type is essentially a way the information can be saved and manipulated. Each data type has its own functions and methods that can modify it. And usually, the functions that can modify one data types, won't work with the other or give a different result. That is why it is important to know your data types."
   ]
  },
  {
   "cell_type": "markdown",
   "metadata": {},
   "source": [
    "### Variable Assignment  <a id='subsection1'></a>"
   ]
  },
  {
   "cell_type": "markdown",
   "metadata": {},
   "source": [
    "We should think of a variable as a container or a storage box that allows us to save various types of information we plan to use later. Defining a variable consists of two components: a name it will be called by and information you store under that name. One variable can hold one type of information."
   ]
  },
  {
   "cell_type": "code",
   "execution_count": 6,
   "metadata": {},
   "outputs": [
    {
     "data": {
      "text/plain": [
       "'Variable'"
      ]
     },
     "execution_count": 6,
     "metadata": {},
     "output_type": "execute_result"
    }
   ],
   "source": [
    "var = \"Variable\"\n",
    "var"
   ]
  },
  {
   "cell_type": "code",
   "execution_count": 7,
   "metadata": {},
   "outputs": [
    {
     "name": "stdout",
     "output_type": "stream",
     "text": [
      "Variable\n"
     ]
    }
   ],
   "source": [
    "print(var)"
   ]
  },
  {
   "cell_type": "markdown",
   "metadata": {},
   "source": [
    "In the next cell assign the variable hello to a phrase \"Hello World\"."
   ]
  },
  {
   "cell_type": "code",
   "execution_count": 8,
   "metadata": {},
   "outputs": [
    {
     "data": {
      "text/plain": [
       "'...'"
      ]
     },
     "execution_count": 8,
     "metadata": {},
     "output_type": "execute_result"
    }
   ],
   "source": [
    "hello  = \"...\"\n",
    "hello"
   ]
  },
  {
   "cell_type": "markdown",
   "metadata": {},
   "source": [
    "### Strings  <a id='subsection2'></a>"
   ]
  },
  {
   "cell_type": "markdown",
   "metadata": {},
   "source": [
    "A string is a data types that consists of textual information. It will read all types of data as a text, even if you were to use numbers. Strings are defined by the quotation marks (either double or single)."
   ]
  },
  {
   "cell_type": "code",
   "execution_count": 9,
   "metadata": {},
   "outputs": [
    {
     "data": {
      "text/plain": [
       "'Kseniya Usovich'"
      ]
     },
     "execution_count": 9,
     "metadata": {},
     "output_type": "execute_result"
    }
   ],
   "source": [
    "\"Kseniya Usovich\""
   ]
  },
  {
   "cell_type": "markdown",
   "metadata": {},
   "source": [
    "Textual info without the quotation marks is read as a variable, and if that variable doesn't contain any info will give you an error."
   ]
  },
  {
   "cell_type": "code",
   "execution_count": 10,
   "metadata": {},
   "outputs": [
    {
     "ename": "NameError",
     "evalue": "name 'Kseniya' is not defined",
     "output_type": "error",
     "traceback": [
      "\u001b[0;31m---------------------------------------------------------------------------\u001b[0m",
      "\u001b[0;31mNameError\u001b[0m                                 Traceback (most recent call last)",
      "\u001b[0;32m<ipython-input-10-69fe8fd17786>\u001b[0m in \u001b[0;36m<module>\u001b[0;34m\u001b[0m\n\u001b[0;32m----> 1\u001b[0;31m \u001b[0mKseniya\u001b[0m\u001b[0;34m\u001b[0m\u001b[0m\n\u001b[0m",
      "\u001b[0;31mNameError\u001b[0m: name 'Kseniya' is not defined"
     ]
    }
   ],
   "source": [
    "Kseniya"
   ]
  },
  {
   "cell_type": "markdown",
   "metadata": {},
   "source": [
    "You can save your string into a variable. In the cell below, create a variable name with your name in it."
   ]
  },
  {
   "cell_type": "code",
   "execution_count": 11,
   "metadata": {},
   "outputs": [
    {
     "data": {
      "text/plain": [
       "'...'"
      ]
     },
     "execution_count": 11,
     "metadata": {},
     "output_type": "execute_result"
    }
   ],
   "source": [
    "name = \"...\"\n",
    "name"
   ]
  },
  {
   "cell_type": "markdown",
   "metadata": {},
   "source": [
    "As was mentioned before, you can use either double or single quotation marks. But be careful, because some of the textual information might already contain the single (more common) or double (less common) quotation marks inside. Like so:"
   ]
  },
  {
   "cell_type": "code",
   "execution_count": 12,
   "metadata": {},
   "outputs": [
    {
     "data": {
      "text/plain": [
       "\"Joe's\""
      ]
     },
     "execution_count": 12,
     "metadata": {},
     "output_type": "execute_result"
    }
   ],
   "source": [
    "\"Joe's\""
   ]
  },
  {
   "cell_type": "markdown",
   "metadata": {},
   "source": [
    "If we were to use single quotation marks on the outside, it would give us an error:"
   ]
  },
  {
   "cell_type": "code",
   "execution_count": 13,
   "metadata": {},
   "outputs": [
    {
     "ename": "SyntaxError",
     "evalue": "invalid syntax (<ipython-input-13-caf74ef72209>, line 1)",
     "output_type": "error",
     "traceback": [
      "\u001b[0;36m  File \u001b[0;32m\"<ipython-input-13-caf74ef72209>\"\u001b[0;36m, line \u001b[0;32m1\u001b[0m\n\u001b[0;31m    'Joe's'\u001b[0m\n\u001b[0m         ^\u001b[0m\n\u001b[0;31mSyntaxError\u001b[0m\u001b[0;31m:\u001b[0m invalid syntax\n"
     ]
    }
   ],
   "source": [
    "'Joe's'"
   ]
  },
  {
   "cell_type": "markdown",
   "metadata": {},
   "source": [
    "In order to avoid that error, simply put a backslash before the quotation mark, so the computer will read it as part of the string instead of a part of the code itself."
   ]
  },
  {
   "cell_type": "code",
   "execution_count": 14,
   "metadata": {},
   "outputs": [
    {
     "data": {
      "text/plain": [
       "\"Joe's\""
      ]
     },
     "execution_count": 14,
     "metadata": {},
     "output_type": "execute_result"
    }
   ],
   "source": [
    "'Joe\\'s'"
   ]
  },
  {
   "cell_type": "markdown",
   "metadata": {},
   "source": [
    "Everything inside that quotation marks will be read as a textual information. Compare the outputs in the cell below."
   ]
  },
  {
   "cell_type": "code",
   "execution_count": 15,
   "metadata": {},
   "outputs": [
    {
     "name": "stdout",
     "output_type": "stream",
     "text": [
      "2+3\n",
      "5\n"
     ]
    }
   ],
   "source": [
    "print(\"2+3\")\n",
    "print(2+3)"
   ]
  },
  {
   "cell_type": "markdown",
   "metadata": {},
   "source": [
    "###  Numerals <a id='subsection3'></a>"
   ]
  },
  {
   "cell_type": "markdown",
   "metadata": {},
   "source": [
    "Numerals essentially are just numbers. And you can do all kinds of manipulations with them as you would do with numbers. There are two types of numerals: int and float. \"Int\" is an integer and \"float\" is a number with a decimal point. In the previous versions of Python they were not \"compatiable\", meaning you were only able to manipulate the numerals of the same kind. But starting with Python3, you can combine both types in the calculation without it causing any error."
   ]
  },
  {
   "cell_type": "code",
   "execution_count": 16,
   "metadata": {},
   "outputs": [
    {
     "data": {
      "text/plain": [
       "5"
      ]
     },
     "execution_count": 16,
     "metadata": {},
     "output_type": "execute_result"
    }
   ],
   "source": [
    "2+3"
   ]
  },
  {
   "cell_type": "code",
   "execution_count": 17,
   "metadata": {},
   "outputs": [
    {
     "data": {
      "text/plain": [
       "5.0"
      ]
     },
     "execution_count": 17,
     "metadata": {},
     "output_type": "execute_result"
    }
   ],
   "source": [
    "2.0+3"
   ]
  },
  {
   "cell_type": "code",
   "execution_count": 18,
   "metadata": {},
   "outputs": [
    {
     "data": {
      "text/plain": [
       "2.0"
      ]
     },
     "execution_count": 18,
     "metadata": {},
     "output_type": "execute_result"
    }
   ],
   "source": [
    "4/2"
   ]
  },
  {
   "cell_type": "code",
   "execution_count": 19,
   "metadata": {},
   "outputs": [
    {
     "data": {
      "text/plain": [
       "3"
      ]
     },
     "execution_count": 19,
     "metadata": {},
     "output_type": "execute_result"
    }
   ],
   "source": [
    "7//2"
   ]
  },
  {
   "cell_type": "code",
   "execution_count": 20,
   "metadata": {},
   "outputs": [
    {
     "data": {
      "text/plain": [
       "15"
      ]
     },
     "execution_count": 20,
     "metadata": {},
     "output_type": "execute_result"
    }
   ],
   "source": [
    "5*3"
   ]
  },
  {
   "cell_type": "code",
   "execution_count": 21,
   "metadata": {},
   "outputs": [
    {
     "data": {
      "text/plain": [
       "125"
      ]
     },
     "execution_count": 21,
     "metadata": {},
     "output_type": "execute_result"
    }
   ],
   "source": [
    "5**3"
   ]
  },
  {
   "cell_type": "code",
   "execution_count": 22,
   "metadata": {},
   "outputs": [
    {
     "data": {
      "text/plain": [
       "9"
      ]
     },
     "execution_count": 22,
     "metadata": {},
     "output_type": "execute_result"
    }
   ],
   "source": [
    "(1+2)*3"
   ]
  },
  {
   "cell_type": "markdown",
   "metadata": {},
   "source": [
    "You can also save a numeral in a variable. You can later use that variable instead of typing a number in your calculations."
   ]
  },
  {
   "cell_type": "code",
   "execution_count": 23,
   "metadata": {},
   "outputs": [],
   "source": [
    "g = 9.8"
   ]
  },
  {
   "cell_type": "code",
   "execution_count": 24,
   "metadata": {},
   "outputs": [
    {
     "data": {
      "text/plain": [
       "39.2"
      ]
     },
     "execution_count": 24,
     "metadata": {},
     "output_type": "execute_result"
    }
   ],
   "source": [
    "g*4"
   ]
  },
  {
   "cell_type": "markdown",
   "metadata": {},
   "source": [
    "###  Booleans <a id='subsection4'></a>"
   ]
  },
  {
   "cell_type": "markdown",
   "metadata": {},
   "source": [
    "# Add note on True and False \n",
    "\n",
    "<!--INSERT COMMENT HERE-->\n"
   ]
  },
  {
   "cell_type": "markdown",
   "metadata": {},
   "source": [
    "## Data Structures <a id='section2'></a>"
   ]
  },
  {
   "cell_type": "markdown",
   "metadata": {},
   "source": [
    "### Lists <a id='subsection 4'></a>\n",
    "\n",
    "List is a data type that allows you to save multiple objects. In comparisson with strings, lists can contain different data types."
   ]
  },
  {
   "cell_type": "code",
   "execution_count": 25,
   "metadata": {},
   "outputs": [
    {
     "data": {
      "text/plain": [
       "[]"
      ]
     },
     "execution_count": 25,
     "metadata": {},
     "output_type": "execute_result"
    }
   ],
   "source": [
    "# here's how you can create an empty list\n",
    "# you'll learn where to use it later in the workshop\n",
    "\n",
    "empty_lst = []\n",
    "empty_lst"
   ]
  },
  {
   "cell_type": "code",
   "execution_count": 26,
   "metadata": {},
   "outputs": [
    {
     "data": {
      "text/plain": [
       "[2, 'name', 3, [5, 6, 7], 'berkeley']"
      ]
     },
     "execution_count": 26,
     "metadata": {},
     "output_type": "execute_result"
    }
   ],
   "source": [
    "new_lst = [2, \"name\", 3, [5, 6, 7], \"berkeley\"]\n",
    "new_lst"
   ]
  },
  {
   "cell_type": "markdown",
   "metadata": {},
   "source": [
    "To itterate through the list, you can use square brackets with an index of an object you are interested in. Like so:"
   ]
  },
  {
   "cell_type": "code",
   "execution_count": 27,
   "metadata": {},
   "outputs": [
    {
     "data": {
      "text/plain": [
       "'name'"
      ]
     },
     "execution_count": 27,
     "metadata": {},
     "output_type": "execute_result"
    }
   ],
   "source": [
    "# remember that Python, like many programming languages, starts counting from 0.\n",
    "\n",
    "new_lst[1]"
   ]
  },
  {
   "cell_type": "markdown",
   "metadata": {},
   "source": [
    "Notice also that each component of the list separated by a comma is a single object. So the list inside of the list will be a single object. If you want to itterate through a list inside of the list, you will need to use the square brackets twice. Like we did here:"
   ]
  },
  {
   "cell_type": "code",
   "execution_count": 28,
   "metadata": {},
   "outputs": [
    {
     "data": {
      "text/plain": [
       "5"
      ]
     },
     "execution_count": 28,
     "metadata": {},
     "output_type": "execute_result"
    }
   ],
   "source": [
    "new_lst[3][0]"
   ]
  },
  {
   "cell_type": "markdown",
   "metadata": {},
   "source": [
    "You can also replace the objects in the list by using iteration."
   ]
  },
  {
   "cell_type": "code",
   "execution_count": 29,
   "metadata": {},
   "outputs": [
    {
     "data": {
      "text/plain": [
       "[6, 'name', 3, [5, 6, 7], 'berkeley']"
      ]
     },
     "execution_count": 29,
     "metadata": {},
     "output_type": "execute_result"
    }
   ],
   "source": [
    "new_lst[0] = 6\n",
    "new_lst"
   ]
  },
  {
   "cell_type": "markdown",
   "metadata": {},
   "source": [
    "There are a few ways you can copy your list over into a new variable. But these copies will behave differently."
   ]
  },
  {
   "cell_type": "code",
   "execution_count": 30,
   "metadata": {},
   "outputs": [
    {
     "name": "stdout",
     "output_type": "stream",
     "text": [
      "[6, 'name', 7, [5, 6, 7], 'berkeley']\n",
      "[6, 'name', 7, [5, 6, 7], 'berkeley']\n"
     ]
    }
   ],
   "source": [
    "# before running this cell, think about the output of lst_2 & new_lst\n",
    "\n",
    "lst_2 = new_lst\n",
    "lst_2[2] = 7\n",
    "\n",
    "print(new_lst)\n",
    "print(lst_2)"
   ]
  },
  {
   "cell_type": "code",
   "execution_count": 31,
   "metadata": {},
   "outputs": [
    {
     "name": "stdout",
     "output_type": "stream",
     "text": [
      "[6, 'name', 7, [5, 6, 7], 'berkeley']\n",
      "[6, 'name', 8, [5, 6, 7], 'berkeley']\n"
     ]
    }
   ],
   "source": [
    "# compare it to this way of copying\n",
    "\n",
    "lst_3 = new_lst[:]\n",
    "lst_3[2] = 8\n",
    "\n",
    "print(new_lst)\n",
    "print(lst_3)"
   ]
  },
  {
   "cell_type": "markdown",
   "metadata": {},
   "source": [
    "### Arrays <a id='subsection5'></a>"
   ]
  },
  {
   "cell_type": "markdown",
   "metadata": {},
   "source": [
    "Arrays are another data type that is similar to lists in a way, but they only allow for one type of information to be saved in them. Where a list can have multiple data types in it, each array can only have objects of one type (either numerals, or strings, or lists, etc.). They also use different methods and functions, that is why it is important to know your data types."
   ]
  },
  {
   "cell_type": "code",
   "execution_count": 32,
   "metadata": {},
   "outputs": [],
   "source": [
    "# here we create two variables with numbers from 0 to 6, one is an array, \n",
    "# and the other is a list\n",
    "\n",
    "x_arr = np.arange(7)\n",
    "x_list = [0, 1, 2, 3, 4, 5, 6]"
   ]
  },
  {
   "cell_type": "code",
   "execution_count": 33,
   "metadata": {},
   "outputs": [
    {
     "data": {
      "text/plain": [
       "array([ 0,  3,  6,  9, 12, 15, 18])"
      ]
     },
     "execution_count": 33,
     "metadata": {},
     "output_type": "execute_result"
    }
   ],
   "source": [
    "x_arr*3"
   ]
  },
  {
   "cell_type": "code",
   "execution_count": 34,
   "metadata": {},
   "outputs": [
    {
     "data": {
      "text/plain": [
       "[0, 1, 2, 3, 4, 5, 6, 0, 1, 2, 3, 4, 5, 6, 0, 1, 2, 3, 4, 5, 6]"
      ]
     },
     "execution_count": 34,
     "metadata": {},
     "output_type": "execute_result"
    }
   ],
   "source": [
    "x_list*3"
   ]
  },
  {
   "cell_type": "code",
   "execution_count": 35,
   "metadata": {},
   "outputs": [
    {
     "data": {
      "text/plain": [
       "array([0, 1, 5, 3, 4, 5, 6])"
      ]
     },
     "execution_count": 35,
     "metadata": {},
     "output_type": "execute_result"
    }
   ],
   "source": [
    "x_arr[2] = 5\n",
    "x_arr"
   ]
  },
  {
   "cell_type": "markdown",
   "metadata": {},
   "source": [
    "Arrays are most commonly used with tables, which we will not interact with in this workshop. Arrays are most useful when you want to have a set of the same kind of data that you can easily modify together."
   ]
  },
  {
   "cell_type": "markdown",
   "metadata": {},
   "source": [
    "### Tuples <a id='subsection6'></a>"
   ]
  },
  {
   "cell_type": "markdown",
   "metadata": {},
   "source": [
    "Tuples look and behave similarly to arrays, but they cannot be modified. It can be used with geospatial data or other data that shouldn't be modified under any circumstances."
   ]
  },
  {
   "cell_type": "code",
   "execution_count": 36,
   "metadata": {},
   "outputs": [
    {
     "data": {
      "text/plain": [
       "(2, 3, 4)"
      ]
     },
     "execution_count": 36,
     "metadata": {},
     "output_type": "execute_result"
    }
   ],
   "source": [
    "tup = tuple([2, 3, 4])\n",
    "tup"
   ]
  },
  {
   "cell_type": "code",
   "execution_count": 37,
   "metadata": {},
   "outputs": [
    {
     "data": {
      "text/plain": [
       "3"
      ]
     },
     "execution_count": 37,
     "metadata": {},
     "output_type": "execute_result"
    }
   ],
   "source": [
    "tup[1]"
   ]
  },
  {
   "cell_type": "code",
   "execution_count": 38,
   "metadata": {},
   "outputs": [
    {
     "ename": "TypeError",
     "evalue": "'tuple' object does not support item assignment",
     "output_type": "error",
     "traceback": [
      "\u001b[0;31m---------------------------------------------------------------------------\u001b[0m",
      "\u001b[0;31mTypeError\u001b[0m                                 Traceback (most recent call last)",
      "\u001b[0;32m<ipython-input-38-d14146d6c2a7>\u001b[0m in \u001b[0;36m<module>\u001b[0;34m\u001b[0m\n\u001b[0;32m----> 1\u001b[0;31m \u001b[0mtup\u001b[0m\u001b[0;34m[\u001b[0m\u001b[0;36m1\u001b[0m\u001b[0;34m]\u001b[0m \u001b[0;34m=\u001b[0m \u001b[0;36m5\u001b[0m\u001b[0;34m\u001b[0m\u001b[0m\n\u001b[0m",
      "\u001b[0;31mTypeError\u001b[0m: 'tuple' object does not support item assignment"
     ]
    }
   ],
   "source": [
    "tup[1] = 5"
   ]
  },
  {
   "cell_type": "markdown",
   "metadata": {},
   "source": [
    "### Dictionaries <a id='subsection7'></a>"
   ]
  },
  {
   "cell_type": "markdown",
   "metadata": {},
   "source": [
    "Another powerful data structure is the dictionary. Dictionaries help us store and manipulate data relations.\n",
    "\n",
    "What are dictionaries? \n",
    "\n",
    "    A dictionary is a collection of unordered, mutable and indexable data types. They are structured as key-value pairs. \n",
    "\n",
    "About:\n",
    "* built-in \n",
    "* built using curly brakets - {kay: value} \n",
    "* you can access the value using the key ( like a real dictionary)\n",
    "* keys tend to be strings (or text), since typically they represent the title or name of the thing(s) you want to represent.\n",
    "\n",
    "\n",
    "\n",
    "\n"
   ]
  },
  {
   "cell_type": "markdown",
   "metadata": {},
   "source": [
    "#### Examples"
   ]
  },
  {
   "cell_type": "markdown",
   "metadata": {},
   "source": [
    "**1)** Favorite movies for a group of 4 students"
   ]
  },
  {
   "cell_type": "code",
   "execution_count": 39,
   "metadata": {},
   "outputs": [
    {
     "data": {
      "text/plain": [
       "{'Karla': 'Blade Runner',\n",
       " 'Andy': 'Toy Story',\n",
       " 'Sam': 'It',\n",
       " 'Jennifer': \"Harry Potter and the Sorcerer's Stone\"}"
      ]
     },
     "execution_count": 39,
     "metadata": {},
     "output_type": "execute_result"
    }
   ],
   "source": [
    "movies = {\"Karla\" : \"Blade Runner\", \"Andy\" : \"Toy Story\", \"Sam\" : \"It\", \"Jennifer\" : \"Harry Potter and the Sorcerer's Stone\"}\n",
    "movies "
   ]
  },
  {
   "cell_type": "markdown",
   "metadata": {},
   "source": [
    "In here, the keys are the names of the students - `Karla, Andy, Sam, and Jennifer`, and  values are the names of the favorite movie for each student - `Blade runner, Toy story, It, and Harry Potter and the Sorcerer's Stone` respectively."
   ]
  },
  {
   "cell_type": "markdown",
   "metadata": {},
   "source": [
    "**2)**  Features of my pet. We want to know what to form a relationship between my pet and it's gestation type, breed, gestation period (in days), and average lifespan (in years)."
   ]
  },
  {
   "cell_type": "code",
   "execution_count": 40,
   "metadata": {},
   "outputs": [
    {
     "data": {
      "text/plain": [
       "{'name': 'Guido',\n",
       " 'type': 'golden retriever',\n",
       " 'gestation_period': 63,\n",
       " 'life_expectancy': 11}"
      ]
     },
     "execution_count": 40,
     "metadata": {},
     "output_type": "execute_result"
    }
   ],
   "source": [
    "my_pet = {\"name\" : \"Guido\", \"type\" : \"golden retriever\", \"gestation_period\" : 63, \"life_expectancy\" : 11}\n",
    "my_pet"
   ]
  },
  {
   "cell_type": "markdown",
   "metadata": {},
   "source": [
    "Notice, that we are able to store different data types in the value filed. For `name` and `type` we have strings, and for `gestation_period` and `life_expectancy` we have numerals."
   ]
  },
  {
   "cell_type": "markdown",
   "metadata": {},
   "source": [
    "**3)** Now, we want to collect the same information as above but for different pets, but now we will associate it the name of the owner. For this exampe, we will say that  Karla has a dog, Sam has a cat, and Alan has hamster. "
   ]
  },
  {
   "cell_type": "code",
   "execution_count": 41,
   "metadata": {},
   "outputs": [
    {
     "data": {
      "text/plain": [
       "{'Karla': {'name': 'Guido',\n",
       "  'type': 'golden retriever',\n",
       "  'gestation_period': 63,\n",
       "  'life_expectancy': 11},\n",
       " 'Sam': {'name': 'Frati',\n",
       "  'type': 'siamese',\n",
       "  'gestation_period': 60,\n",
       "  'life_expectancy': 17},\n",
       " 'Alan': {'name': 'Boots',\n",
       "  'type': 'syrian',\n",
       "  'gestation_period': 17,\n",
       "  'life_expectancy': 2.5}}"
      ]
     },
     "execution_count": 41,
     "metadata": {},
     "output_type": "execute_result"
    }
   ],
   "source": [
    "our_pets = {\"Karla\" : {\"name\" : \"Guido\", \"type\" : \"golden retriever\", \"gestation_period\" : 63, \"life_expectancy\" : 11},\n",
    "            \"Sam\" : {\"name\" : \"Frati\", \"type\" : \"siamese\", \"gestation_period\" : 60, \"life_expectancy\" : 17},\n",
    "            \"Alan\" : {\"name\" : \"Boots\", \"type\" : \"syrian\", \"gestation_period\" : 17, \"life_expectancy\" : 2.5} }\n",
    "our_pets"
   ]
  },
  {
   "cell_type": "markdown",
   "metadata": {},
   "source": [
    "Wow! We just created a dictionary of dictionaries! There are different ways to arrange the infomartion that we stored above. For instance, we could have used lists instead."
   ]
  },
  {
   "cell_type": "code",
   "execution_count": 42,
   "metadata": {},
   "outputs": [
    {
     "data": {
      "text/plain": [
       "{'Owner': ['Karla', 'Sam', 'Alan'],\n",
       " 'Name': ['Guido', 'Frati', 'Boots'],\n",
       " 'type': ['golden retriever', 'siamese', 'syrian'],\n",
       " 'gestation_period': [63, 60, 17],\n",
       " 'life_expectancy': [11, 17, 2.5]}"
      ]
     },
     "execution_count": 42,
     "metadata": {},
     "output_type": "execute_result"
    }
   ],
   "source": [
    "our_pets_2 = {\"Owner\":[\"Karla\", \"Sam\",\"Alan\"], \"Name\":[\"Guido\",\"Frati\",\"Boots\"], \"type\":[\"golden retriever\",\"siamese\",\"syrian\"],\"gestation_period\":[63,60,17],\"life_expectancy\":[11,17,2.5]}\n",
    "our_pets_2"
   ]
  },
  {
   "cell_type": "markdown",
   "metadata": {},
   "source": [
    "If this is a bit hard to understand, do not worry! All you need to remeber is that they are key-value pairs that store data. Now, let's see how we can access and manipulate that data. "
   ]
  },
  {
   "cell_type": "markdown",
   "metadata": {},
   "source": [
    "#### Accessing Elements\n",
    "\n",
    "The elements in a dictionary you can use the bracket notation we had learned before. It will return the value if the \"key\" exists, otherwise it will return a  KeyError. \n",
    "\n",
    "Let's use the movies example from above. "
   ]
  },
  {
   "cell_type": "code",
   "execution_count": 43,
   "metadata": {},
   "outputs": [
    {
     "data": {
      "text/plain": [
       "{'Karla': 'Blade Runner',\n",
       " 'Andy': 'Toy Story',\n",
       " 'Sam': 'It',\n",
       " 'Jennifer': \"Harry Potter and the Sorcerer's Stone\"}"
      ]
     },
     "execution_count": 43,
     "metadata": {},
     "output_type": "execute_result"
    }
   ],
   "source": [
    "# Run this cell to see the dictionary\n",
    "movies "
   ]
  },
  {
   "cell_type": "code",
   "execution_count": 44,
   "metadata": {},
   "outputs": [
    {
     "data": {
      "text/plain": [
       "'It'"
      ]
     },
     "execution_count": 44,
     "metadata": {},
     "output_type": "execute_result"
    }
   ],
   "source": [
    "movies['Sam']"
   ]
  },
  {
   "cell_type": "markdown",
   "metadata": {},
   "source": [
    "In the example above, \"Sam\" is the key, and \"It\" is value. Now, let's try to access a key that is NOT on the diccionary. "
   ]
  },
  {
   "cell_type": "code",
   "execution_count": 45,
   "metadata": {},
   "outputs": [
    {
     "ename": "KeyError",
     "evalue": "'Jen'",
     "output_type": "error",
     "traceback": [
      "\u001b[0;31m---------------------------------------------------------------------------\u001b[0m",
      "\u001b[0;31mKeyError\u001b[0m                                  Traceback (most recent call last)",
      "\u001b[0;32m<ipython-input-45-c9e64910d1d5>\u001b[0m in \u001b[0;36m<module>\u001b[0;34m\u001b[0m\n\u001b[0;32m----> 1\u001b[0;31m \u001b[0mmovies\u001b[0m\u001b[0;34m[\u001b[0m\u001b[0;34m'Jen'\u001b[0m\u001b[0;34m]\u001b[0m\u001b[0;34m\u001b[0m\u001b[0m\n\u001b[0m",
      "\u001b[0;31mKeyError\u001b[0m: 'Jen'"
     ]
    }
   ],
   "source": [
    "movies['Jen']"
   ]
  },
  {
   "cell_type": "markdown",
   "metadata": {},
   "source": [
    "#### Inserting and Changing Elements"
   ]
  },
  {
   "cell_type": "markdown",
   "metadata": {},
   "source": [
    "#### Changing Elements\n",
    "Let's begin by changing the Sam's favorite movie to \"Wizard of Oz\". "
   ]
  },
  {
   "cell_type": "code",
   "execution_count": 46,
   "metadata": {},
   "outputs": [
    {
     "data": {
      "text/plain": [
       "{'Karla': 'Blade Runner',\n",
       " 'Andy': 'Toy Story',\n",
       " 'Sam': 'Wizard of Oz',\n",
       " 'Jennifer': \"Harry Potter and the Sorcerer's Stone\"}"
      ]
     },
     "execution_count": 46,
     "metadata": {},
     "output_type": "execute_result"
    }
   ],
   "source": [
    "movies['Sam']= \"Wizard of Oz\"\n",
    "\n",
    "movies"
   ]
  },
  {
   "cell_type": "markdown",
   "metadata": {},
   "source": [
    "#### Adding Elements\n",
    "\n",
    "We can add and insert elements in a diccionary the same way."
   ]
  },
  {
   "cell_type": "code",
   "execution_count": 47,
   "metadata": {},
   "outputs": [
    {
     "data": {
      "text/plain": [
       "{'Karla': 'Blade Runner',\n",
       " 'Andy': 'Toy Story',\n",
       " 'Sam': 'Wizard of Oz',\n",
       " 'Jennifer': \"Harry Potter and the Sorcerer's Stone\",\n",
       " 'Karen': 'Coco'}"
      ]
     },
     "execution_count": 47,
     "metadata": {},
     "output_type": "execute_result"
    }
   ],
   "source": [
    "movies['Karen'] = \"Coco\"\n",
    "\n",
    "movies"
   ]
  },
  {
   "cell_type": "markdown",
   "metadata": {},
   "source": [
    "Your turn! Add a new entry to the diccionary with your favorite movie."
   ]
  },
  {
   "cell_type": "code",
   "execution_count": null,
   "metadata": {},
   "outputs": [],
   "source": []
  },
  {
   "cell_type": "markdown",
   "metadata": {},
   "source": [
    "#### Removing Elements"
   ]
  },
  {
   "cell_type": "markdown",
   "metadata": {},
   "source": [
    "To remove an element, we have to use the function `del`. "
   ]
  },
  {
   "cell_type": "code",
   "execution_count": 48,
   "metadata": {},
   "outputs": [
    {
     "data": {
      "text/plain": [
       "{'Andy': 'Toy Story',\n",
       " 'Sam': 'Wizard of Oz',\n",
       " 'Jennifer': \"Harry Potter and the Sorcerer's Stone\",\n",
       " 'Karen': 'Coco'}"
      ]
     },
     "execution_count": 48,
     "metadata": {},
     "output_type": "execute_result"
    }
   ],
   "source": [
    "del movies['Karla']\n",
    "movies"
   ]
  },
  {
   "cell_type": "markdown",
   "metadata": {},
   "source": [
    "Now, delete your favorite your entry from the diccionary."
   ]
  },
  {
   "cell_type": "markdown",
   "metadata": {},
   "source": [
    "----\n",
    "# ADD AFTER LIST/ and built ins\n",
    "\n",
    "Make sure you don't use the built-in functions as names for your variables. If you were to call your list \"list\", then the function with the same name will not work in your notebook anymore. It is easy to tell (in Jupyter Notebooks) whether something is a function/method. When you enter it, it be in green in your code cell.\n",
    "\n",
    "----"
   ]
  },
  {
   "cell_type": "markdown",
   "metadata": {},
   "source": [
    "## Loops and Conditionals <a id='section4'></a>"
   ]
  },
  {
   "cell_type": "markdown",
   "metadata": {},
   "source": [
    "### Conditionals\n",
    "\n",
    "Why do we care about conditionals?\n",
    "- Use conditionals statements to control when you want a block of code to excute. \n",
    "    - e.g. square something only when the values are greater than some other arbitrary value. \n",
    "- Use inside loops "
   ]
  },
  {
   "cell_type": "markdown",
   "metadata": {},
   "source": [
    "#### Boolean values\n",
    "\n",
    "\n",
    "Booleans can only take `True` or `False` values. They represent the \"truth\" values in a logical expression, and can help us answer questions that require a binary responses (yes or no) whenver a given condition is or is not met. \n",
    "\n",
    "Examples:\n",
    "- Is 0<1?\n",
    "- Is abs(-2) == abs(2)?\n"
   ]
  },
  {
   "cell_type": "markdown",
   "metadata": {},
   "source": [
    "Going back to the questions posed above, we have example 1 and example 2."
   ]
  },
  {
   "cell_type": "code",
   "execution_count": 112,
   "metadata": {},
   "outputs": [
    {
     "data": {
      "text/plain": [
       "True"
      ]
     },
     "execution_count": 112,
     "metadata": {},
     "output_type": "execute_result"
    }
   ],
   "source": [
    "# EXAMPLE 1\n",
    "\n",
    "0<1"
   ]
  },
  {
   "cell_type": "code",
   "execution_count": 113,
   "metadata": {},
   "outputs": [
    {
     "data": {
      "text/plain": [
       "True"
      ]
     },
     "execution_count": 113,
     "metadata": {},
     "output_type": "execute_result"
    }
   ],
   "source": [
    "# EXAMPLE 2\n",
    "\n",
    "abs(-2) == abs(2)"
   ]
  },
  {
   "cell_type": "markdown",
   "metadata": {},
   "source": [
    "There are many more comparison operations than \"less than\" and \"equal to\". Look at the table below.\n",
    "\n",
    "\n",
    "#### Built-in comparison operations \n",
    "\n",
    "|symbol| meaning|\n",
    "|------|--------|\n",
    "|<     | less than|\n",
    "|>     | greater than|\n",
    "|>= |greater than or equal to|\n",
    "|<= | less than or eual to|\n",
    "|==| equal to|\n",
    "|!=| not equal to|"
   ]
  },
  {
   "cell_type": "markdown",
   "metadata": {},
   "source": [
    "Let's try some excercises:"
   ]
  },
  {
   "cell_type": "markdown",
   "metadata": {},
   "source": [
    "**Exercise 1**  Write \"4 equal to 'four'\" in code using conditionals."
   ]
  },
  {
   "cell_type": "code",
   "execution_count": null,
   "metadata": {},
   "outputs": [],
   "source": [
    "# YOUR CODE\n"
   ]
  },
  {
   "cell_type": "markdown",
   "metadata": {},
   "source": [
    "**Exercise 1**  Write \"2 equal to 1 + 1\" in code using conditionals."
   ]
  },
  {
   "cell_type": "code",
   "execution_count": null,
   "metadata": {},
   "outputs": [],
   "source": [
    "# YOUR CODE "
   ]
  },
  {
   "cell_type": "code",
   "execution_count": null,
   "metadata": {},
   "outputs": [],
   "source": []
  },
  {
   "cell_type": "markdown",
   "metadata": {},
   "source": [
    "# Add section on TRUE and FALSE ( 2 -4 cells max)\n",
    "* 3. Is 30 between 28 and 50? (30>28 AND 30<50) "
   ]
  },
  {
   "cell_type": "markdown",
   "metadata": {},
   "source": [
    "#### A conditional statement\n",
    "\n",
    "A conditional statment has the following form:\n",
    "\n",
    "`if <condition>:\n",
    "    <do_something> \n",
    "elif <condition>:\n",
    "    <do_something>\n",
    "else:\n",
    "     <do_something>`\n",
    "        \n",
    "                 \n",
    "The **condition** called **expressions** and **do_something** are called **suite**. (Don' worry about terminology for now.)"
   ]
  },
  {
   "cell_type": "markdown",
   "metadata": {},
   "source": [
    "**Example:**"
   ]
  },
  {
   "cell_type": "code",
   "execution_count": 38,
   "metadata": {},
   "outputs": [
    {
     "name": "stdout",
     "output_type": "stream",
     "text": [
      "True. 5 is less than 6!\n"
     ]
    }
   ],
   "source": [
    "if 5<6:\n",
    "    print(\"True. 5 is less than 6!\")\n",
    "else:\n",
    "    print(\"False. What is math?\")"
   ]
  },
  {
   "cell_type": "markdown",
   "metadata": {},
   "source": [
    "**How do condional statements work?**\n",
    "* First, it evaulated the header expression(which is the `if` statment). If the statement is True, then it executes the first suite otherwise, it checks the condition of the `elif`, and so on. \n",
    "* It will only execute the suite (do_something) of the `else` clause, if the conditions of the `if` and `elif` are false (not met). \n",
    "\n",
    "\n",
    "**Some notes about conditional statements:**\n",
    "* You can have as many `elif` expressions as you want, but you can only have one `if` and one `else` statement. \n",
    "* `else` always comes at the end.\n",
    "* You do not always need and `else`.\n",
    "* When you execute a conditional statement, you must ALWAYS condider the order of you statements."
   ]
  },
  {
   "cell_type": "markdown",
   "metadata": {},
   "source": [
    "### \"For\" Loops"
   ]
  },
  {
   "cell_type": "markdown",
   "metadata": {},
   "source": [
    "What are loops useful for? \n",
    "- Sometimes we want to perform some operation on a list, or tuple, but doing it on each element individually can be very tediuos!\n",
    "- A loop goes through a collection of data types and **executes** some state statement **for each value**  in that collection of data. \n",
    "- Examples of data types are: list, array, characters string, tuple, dictionary, and other collections"
   ]
  },
  {
   "cell_type": "code",
   "execution_count": 107,
   "metadata": {},
   "outputs": [
    {
     "name": "stdout",
     "output_type": "stream",
     "text": [
      "1\n",
      "4\n",
      "27\n"
     ]
    }
   ],
   "source": [
    "# EXAMPLE 1 \n",
    "\n",
    "# square each value in the tuple \n",
    "for i in (1,2,3):\n",
    "    print(i**i)"
   ]
  },
  {
   "cell_type": "code",
   "execution_count": 108,
   "metadata": {},
   "outputs": [
    {
     "name": "stdout",
     "output_type": "stream",
     "text": [
      "1\n",
      "2.0\n",
      "k\n"
     ]
    }
   ],
   "source": [
    "# EXAMPLE 2\n",
    "\n",
    "# print each item in the list. \n",
    "# recall that the elements in the list do not have to have the same type \n",
    "\n",
    "for i in [1, 2.0, \"k\"]:\n",
    "    print(i)"
   ]
  },
  {
   "cell_type": "code",
   "execution_count": 109,
   "metadata": {},
   "outputs": [
    {
     "name": "stdout",
     "output_type": "stream",
     "text": [
      "dog\n",
      "cat\n",
      "bird\n",
      "fish\n"
     ]
    }
   ],
   "source": [
    "# EXAMPLE 3\n",
    "\n",
    "# print each animal in the animals list\n",
    "animals = [\"dog\", \"cat\", \"bird\", \"fish\"]\n",
    "for animal in animals:\n",
    "    print(animal)"
   ]
  },
  {
   "cell_type": "code",
   "execution_count": 110,
   "metadata": {},
   "outputs": [
    {
     "name": "stdout",
     "output_type": "stream",
     "text": [
      "3.141592653589793\n",
      "28.274333882308138\n",
      "78.53981633974483\n",
      "153.93804002589985\n",
      "254.46900494077323\n"
     ]
    }
   ],
   "source": [
    "# EXAMPLE 4\n",
    "\n",
    "\n",
    "# calculate the area for circles with different radius\n",
    "# you can save the list in variable before iterating over it \n",
    "radiuses = [1, 3, 5, 7, 9]\n",
    "\n",
    "for radius in radiuses: \n",
    "    area = math.pi*radius**2\n",
    "    print(area)"
   ]
  },
  {
   "cell_type": "code",
   "execution_count": 111,
   "metadata": {},
   "outputs": [
    {
     "name": "stdout",
     "output_type": "stream",
     "text": [
      "A\n",
      " \n",
      "V\n",
      "E\n",
      "R\n",
      "Y\n",
      " \n",
      "L\n",
      "O\n",
      "N\n",
      "G\n",
      " \n",
      "W\n",
      "O\n",
      "R\n",
      "D\n",
      " \n",
      "S\n",
      "H\n",
      "O\n",
      "U\n",
      "L\n",
      "D\n",
      " \n",
      "B\n",
      "E\n",
      " \n",
      "H\n",
      "E\n",
      "R\n",
      "E\n"
     ]
    }
   ],
   "source": [
    "# EXAMPLE 5 \n",
    "\n",
    "# change each letter in the random_sentence from lower to upper case \n",
    "random_sentence = \"A very long word should be here\"\n",
    "\n",
    "for letter in random_sentence:\n",
    "    print(letter.upper())"
   ]
  },
  {
   "cell_type": "markdown",
   "metadata": {},
   "source": [
    "### \"While\" Loops "
   ]
  },
  {
   "cell_type": "markdown",
   "metadata": {},
   "source": [
    "---"
   ]
  },
  {
   "cell_type": "markdown",
   "metadata": {},
   "source": [
    "## Section 2 <a id='section2'></a>"
   ]
  },
  {
   "cell_type": "markdown",
   "metadata": {},
   "source": [
    "Intro to section 2 here."
   ]
  },
  {
   "cell_type": "markdown",
   "metadata": {},
   "source": []
  },
  {
   "cell_type": "markdown",
   "metadata": {},
   "source": [
    "---\n",
    "Notebook developed by: Kseniya Usovich\n",
    "\n",
    "Cal NERDS GitHub: https://github.com/Cal-NERDS\n"
   ]
  },
  {
   "cell_type": "code",
   "execution_count": null,
   "metadata": {},
   "outputs": [],
   "source": []
  }
 ],
 "metadata": {
  "anaconda-cloud": {},
  "kernelspec": {
   "display_name": "Python 3",
   "language": "python",
   "name": "python3"
  },
  "language_info": {
   "codemirror_mode": {
    "name": "ipython",
    "version": 3
   },
   "file_extension": ".py",
   "mimetype": "text/x-python",
   "name": "python",
   "nbconvert_exporter": "python",
   "pygments_lexer": "ipython3",
   "version": "3.6.6"
  }
 },
 "nbformat": 4,
 "nbformat_minor": 1
}
