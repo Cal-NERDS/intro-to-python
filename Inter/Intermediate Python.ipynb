{
 "cells": [
  {
   "cell_type": "markdown",
   "metadata": {},
   "source": [
    "2.1) Libraries: numpy, pandas\n",
    "\n",
    "2.2) Tables/Dataframe: read a file, work with columns (review of data types), do basic analysis on the data\n",
    "                       (basic statistics, mean/mid/max, confidence intervals, hyp. testing, percentiles,\n",
    "                       outliers, correlation, R^2, SD, variance, bootstrapping)\n",
    "\n",
    "2.3) Vizualisation: matplotlib, seaborn, histograms, barplots, boxplots, scatterplots, 2 hist in one figure "
   ]
  }
 ],
 "metadata": {
  "kernelspec": {
   "display_name": "Python 3",
   "language": "python",
   "name": "python3"
  },
  "language_info": {
   "codemirror_mode": {
    "name": "ipython",
    "version": 3
   },
   "file_extension": ".py",
   "mimetype": "text/x-python",
   "name": "python",
   "nbconvert_exporter": "python",
   "pygments_lexer": "ipython3",
   "version": "3.6.2"
  }
 },
 "nbformat": 4,
 "nbformat_minor": 2
}
